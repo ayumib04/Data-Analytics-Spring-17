{
 "cells": [
  {
   "cell_type": "code",
   "execution_count": 1,
   "metadata": {
    "collapsed": true
   },
   "outputs": [],
   "source": [
    "import numpy as np\n",
    "import pandas as pd"
   ]
  },
  {
   "cell_type": "code",
   "execution_count": 8,
   "metadata": {
    "collapsed": false
   },
   "outputs": [
    {
     "data": {
      "text/html": [
       "<div>\n",
       "<table border=\"1\" class=\"dataframe\">\n",
       "  <thead>\n",
       "    <tr style=\"text-align: right;\">\n",
       "      <th></th>\n",
       "      <th>user_id</th>\n",
       "      <th>talk_id</th>\n",
       "      <th>view_time</th>\n",
       "    </tr>\n",
       "  </thead>\n",
       "  <tbody>\n",
       "    <tr>\n",
       "      <th>0</th>\n",
       "      <td>1</td>\n",
       "      <td>10474</td>\n",
       "      <td>07/27/2016 12:27:35</td>\n",
       "    </tr>\n",
       "    <tr>\n",
       "      <th>1</th>\n",
       "      <td>1</td>\n",
       "      <td>10488</td>\n",
       "      <td>08/05/2016 12:34:01</td>\n",
       "    </tr>\n",
       "    <tr>\n",
       "      <th>2</th>\n",
       "      <td>1</td>\n",
       "      <td>10506</td>\n",
       "      <td>08/07/2016 15:55:57</td>\n",
       "    </tr>\n",
       "    <tr>\n",
       "      <th>3</th>\n",
       "      <td>1</td>\n",
       "      <td>10446</td>\n",
       "      <td>08/07/2016 15:58:09</td>\n",
       "    </tr>\n",
       "    <tr>\n",
       "      <th>4</th>\n",
       "      <td>1</td>\n",
       "      <td>10506</td>\n",
       "      <td>08/07/2016 16:06:26</td>\n",
       "    </tr>\n",
       "  </tbody>\n",
       "</table>\n",
       "</div>"
      ],
      "text/plain": [
       "   user_id  talk_id            view_time\n",
       "0        1    10474  07/27/2016 12:27:35\n",
       "1        1    10488  08/05/2016 12:34:01\n",
       "2        1    10506  08/07/2016 15:55:57\n",
       "3        1    10446  08/07/2016 15:58:09\n",
       "4        1    10506  08/07/2016 16:06:26"
      ]
     },
     "execution_count": 8,
     "metadata": {},
     "output_type": "execute_result"
    }
   ],
   "source": [
    "names = ['user_id', 'talk_id', 'view_time']\n",
    "train_user_views_df = pd.read_csv('c:/Users/Ayush/Documents/train_user_view.txt', sep='\\t', names=names)\n",
    "train_user_views_df.head()"
   ]
  },
  {
   "cell_type": "code",
   "execution_count": 9,
   "metadata": {
    "collapsed": false
   },
   "outputs": [
    {
     "data": {
      "text/html": [
       "<div>\n",
       "<table border=\"1\" class=\"dataframe\">\n",
       "  <thead>\n",
       "    <tr style=\"text-align: right;\">\n",
       "      <th></th>\n",
       "      <th>user_id</th>\n",
       "      <th>talk_id</th>\n",
       "      <th>view_time</th>\n",
       "    </tr>\n",
       "  </thead>\n",
       "  <tbody>\n",
       "    <tr>\n",
       "      <th>3</th>\n",
       "      <td>1</td>\n",
       "      <td>10446</td>\n",
       "      <td>08/07/2016 15:58:09</td>\n",
       "    </tr>\n",
       "    <tr>\n",
       "      <th>5</th>\n",
       "      <td>1</td>\n",
       "      <td>10446</td>\n",
       "      <td>08/08/2016 18:18:46</td>\n",
       "    </tr>\n",
       "    <tr>\n",
       "      <th>6</th>\n",
       "      <td>1</td>\n",
       "      <td>10446</td>\n",
       "      <td>08/09/2016 10:38:38</td>\n",
       "    </tr>\n",
       "    <tr>\n",
       "      <th>7</th>\n",
       "      <td>1</td>\n",
       "      <td>10446</td>\n",
       "      <td>08/09/2016 10:39:33</td>\n",
       "    </tr>\n",
       "    <tr>\n",
       "      <th>8</th>\n",
       "      <td>1</td>\n",
       "      <td>10446</td>\n",
       "      <td>08/09/2016 16:33:56</td>\n",
       "    </tr>\n",
       "  </tbody>\n",
       "</table>\n",
       "</div>"
      ],
      "text/plain": [
       "   user_id  talk_id            view_time\n",
       "3        1    10446  08/07/2016 15:58:09\n",
       "5        1    10446  08/08/2016 18:18:46\n",
       "6        1    10446  08/09/2016 10:38:38\n",
       "7        1    10446  08/09/2016 10:39:33\n",
       "8        1    10446  08/09/2016 16:33:56"
      ]
     },
     "execution_count": 9,
     "metadata": {},
     "output_type": "execute_result"
    }
   ],
   "source": [
    "new_df = train_user_views_df.sort_values(['user_id','talk_id','view_time'],ascending=[True,True,True])\n",
    "new_df.head()"
   ]
  },
  {
   "cell_type": "code",
   "execution_count": 16,
   "metadata": {
    "collapsed": false
   },
   "outputs": [
    {
     "name": "stdout",
     "output_type": "stream",
     "text": [
      "37 users\n",
      "165 items\n"
     ]
    }
   ],
   "source": [
    "n_users = new_df.user_id.unique().shape[0]\n",
    "n_talks = new_df.talk_id.unique().shape[0]\n",
    "print str(n_users) + ' users'\n",
    "print str(n_talks) + ' items'"
   ]
  },
  {
   "cell_type": "code",
   "execution_count": 17,
   "metadata": {
    "collapsed": false
   },
   "outputs": [
    {
     "data": {
      "text/plain": [
       "array([[ 10446.,  10446.,  10446., ...,      0.,      0.,      0.],\n",
       "       [ 10636.,  10636.,  10636., ...,  10634.,  10636.,  10636.],\n",
       "       [ 10516.,  10517.,  10532., ...,      0.,      0.,      0.],\n",
       "       ..., \n",
       "       [ 10634.,      0.,      0., ...,      0.,      0.,      0.],\n",
       "       [ 10666.,  10666.,  10666., ...,      0.,      0.,      0.],\n",
       "       [ 10583.,  10591.,  10702., ...,      0.,      0.,      0.]])"
      ]
     },
     "execution_count": 17,
     "metadata": {},
     "output_type": "execute_result"
    }
   ],
   "source": [
    "comments = np.zeros((n_users, n_items))\n",
    "ctr = 0\n",
    "ctr2 = 0\n",
    "temp = 0\n",
    "for row in new_df.itertuples():\n",
    "    if (row[1]-1)!=temp:\n",
    "        ctr = 0\n",
    "        ctr2 = ctr2+1\n",
    "    comments[ctr2, ctr] = row[2]\n",
    "    if (ctr+1) < n_talks:\n",
    "        ctr += 1\n",
    "    else:\n",
    "        ctr = 0\n",
    "    temp = row[1]-1\n",
    "comments"
   ]
  },
  {
   "cell_type": "code",
   "execution_count": 18,
   "metadata": {
    "collapsed": false
   },
   "outputs": [
    {
     "name": "stdout",
     "output_type": "stream",
     "text": [
      "Sparsity: 20.44%\n"
     ]
    }
   ],
   "source": [
    "sparsity = float(len(comments.nonzero()[0]))\n",
    "sparsity /= (comments.shape[0] * comments.shape[1])\n",
    "sparsity *= 100\n",
    "print 'Sparsity: {:4.2f}%'.format(sparsity)"
   ]
  },
  {
   "cell_type": "code",
   "execution_count": 24,
   "metadata": {
    "collapsed": true
   },
   "outputs": [],
   "source": [
    "def train_test_split(comments):\n",
    "    test = np.zeros(comments.shape)\n",
    "    train = comments.copy()\n",
    "    for user in xrange(comments.shape[0]):\n",
    "        test_talks = np.random.choice(comments[user, :].nonzero()[0], \n",
    "                                        size=5, \n",
    "                                        replace=True)\n",
    "        train[user, test_talks] = 0.\n",
    "        test[user, test_talks] = comments[user, test_talks]\n",
    "        \n",
    "    # Test and training are truly disjoint\n",
    "    assert(np.all((train * test) == 0)) \n",
    "    return train, test\n",
    "\n",
    "def valid_test_split(comments):\n",
    "    valid = np.zeros(comments.shape)\n",
    "    train = comments.copy()\n",
    "    for user in xrange(comments.shape[0]):\n",
    "        valid_talks = np.random.choice(comments[user, :].nonzero()[0], \n",
    "                                        size=5, \n",
    "                                        replace=True)\n",
    "        train[user, valid_talks] = 0.\n",
    "        valid[user, valid_talks] = comments[user, valid_talks]\n",
    "        \n",
    "    # Test and training are truly disjoint\n",
    "    assert(np.all((train * valid) == 0)) \n",
    "    return valid"
   ]
  },
  {
   "cell_type": "code",
   "execution_count": 25,
   "metadata": {
    "collapsed": false
   },
   "outputs": [],
   "source": [
    "train, test = train_test_split(comments)\n",
    "valid = valid_test_split(comments)"
   ]
  },
  {
   "cell_type": "code",
   "execution_count": 26,
   "metadata": {
    "collapsed": true
   },
   "outputs": [],
   "source": [
    "def slow_similarity(ratings, kind='user'):\n",
    "    if kind == 'user':\n",
    "        axmax = 0\n",
    "        axmin = 1\n",
    "    elif kind == 'talk':\n",
    "        axmax = 1\n",
    "        axmin = 0\n",
    "    sim = np.zeros((comments.shape[axmax], comments.shape[axmax]))\n",
    "    for u in xrange(comments.shape[axmax]):\n",
    "        for uprime in xrange(comments.shape[axmax]):\n",
    "            rui_sqrd = 0.\n",
    "            ruprimei_sqrd = 0.\n",
    "            for i in xrange(comments.shape[axmin]):\n",
    "                sim[u, uprime] = comments[u, i] * comments[uprime, i]\n",
    "                rui_sqrd += comments[u, i] ** 2\n",
    "                ruprimei_sqrd += comments[uprime, i] ** 2\n",
    "            sim[u, uprime] /= rui_sqrd * ruprimei_sqrd\n",
    "    return sim\n",
    "\n",
    "def fast_similarity(comments, kind='user', epsilon=1e-9):\n",
    "    # epsilon -> small number for handling dived-by-zero errors\n",
    "    if kind == 'user':\n",
    "        sim = comments.dot(comments.T) + epsilon\n",
    "    elif kind == 'talk':\n",
    "        sim = comments.T.dot(comments) + epsilon\n",
    "    norms = np.array([np.sqrt(np.diagonal(sim))])\n",
    "    return (sim / norms / norms.T)"
   ]
  },
  {
   "cell_type": "code",
   "execution_count": 27,
   "metadata": {
    "collapsed": false
   },
   "outputs": [
    {
     "name": "stdout",
     "output_type": "stream",
     "text": [
      "The slowest run took 420.60 times longer than the fastest. This could mean that an intermediate result is being cached.\n",
      "10000 loops, best of 3: 39.1 µs per loop\n"
     ]
    }
   ],
   "source": [
    "%timeit fast_similarity(train, kind='user')"
   ]
  },
  {
   "cell_type": "code",
   "execution_count": 28,
   "metadata": {
    "collapsed": false
   },
   "outputs": [
    {
     "name": "stdout",
     "output_type": "stream",
     "text": [
      "[[ 1.          0.81261905  0.73618814  0.7702859 ]\n",
      " [ 0.81261905  1.          0.71551963  0.79329073]\n",
      " [ 0.73618814  0.71551963  1.          0.61499078]\n",
      " [ 0.7702859   0.79329073  0.61499078  1.        ]]\n"
     ]
    }
   ],
   "source": [
    "user_similarity = fast_similarity(train, kind='user')\n",
    "talk_similarity = fast_similarity(train, kind='talk')\n",
    "print talk_similarity[:4, :4]"
   ]
  },
  {
   "cell_type": "code",
   "execution_count": 31,
   "metadata": {
    "collapsed": true
   },
   "outputs": [],
   "source": [
    "def predict_slow_simple(comments, similarity, kind='user'):\n",
    "    pred = np.zeros(comments.shape)\n",
    "    if kind == 'user':\n",
    "        for i in xrange(comments.shape[0]):\n",
    "            for j in xrange(comments.shape[1]):\n",
    "                pred[i, j] = similarity[i, :].dot(comments[:, j])\\\n",
    "                             /np.sum(np.abs(similarity[i, :]))\n",
    "        return pred\n",
    "    elif kind == 'talk':\n",
    "        for i in xrange(comments.shape[0]):\n",
    "            for j in xrange(comments.shape[1]):\n",
    "                pred[i, j] = similarity[j, :].dot(comments[i, :].T)\\\n",
    "                             /np.sum(np.abs(similarity[j, :]))\n",
    "\n",
    "        return pred\n",
    "\n",
    "def predict_fast_simple(comments, similarity, kind='user'):\n",
    "    if kind == 'user':\n",
    "        return similarity.dot(comments) / np.array([np.abs(similarity).sum(axis=1)]).T\n",
    "    elif kind == 'talk':\n",
    "        return comments.dot(similarity) / np.array([np.abs(similarity).sum(axis=1)])"
   ]
  },
  {
   "cell_type": "code",
   "execution_count": 32,
   "metadata": {
    "collapsed": false
   },
   "outputs": [
    {
     "name": "stdout",
     "output_type": "stream",
     "text": [
      "10 loops, best of 3: 32.2 ms per loop\n"
     ]
    }
   ],
   "source": [
    "%timeit predict_slow_simple(train, user_similarity, kind='user')"
   ]
  },
  {
   "cell_type": "code",
   "execution_count": 33,
   "metadata": {
    "collapsed": false
   },
   "outputs": [
    {
     "name": "stdout",
     "output_type": "stream",
     "text": [
      "The slowest run took 46.97 times longer than the fastest. This could mean that an intermediate result is being cached.\n",
      "10000 loops, best of 3: 44.4 µs per loop\n"
     ]
    }
   ],
   "source": [
    "%timeit predict_fast_simple(train, user_similarity, kind='user')"
   ]
  },
  {
   "cell_type": "code",
   "execution_count": 34,
   "metadata": {
    "collapsed": true
   },
   "outputs": [],
   "source": [
    "from sklearn.metrics import mean_squared_error\n",
    "\n",
    "def get_mse(pred, actual):\n",
    "    # Ignore nonzero terms.\n",
    "    pred = pred[actual.nonzero()].flatten()\n",
    "    actual = actual[actual.nonzero()].flatten()\n",
    "    return mean_squared_error(pred, actual)"
   ]
  },
  {
   "cell_type": "code",
   "execution_count": 41,
   "metadata": {
    "collapsed": false
   },
   "outputs": [
    {
     "name": "stdout",
     "output_type": "stream",
     "text": [
      "User-based test set CF MSE: 31744514.671\n",
      "Talk-based test set CF MSE: 69828631.3198\n",
      "User-based test set CF MSE: 38728878.637\n",
      "Talk-based test set CF MSE: 72659716.5328\n"
     ]
    }
   ],
   "source": [
    "talk_prediction = predict_fast_simple(train, talk_similarity, kind='talk')\n",
    "user_prediction = predict_fast_simple(train, user_similarity, kind='user')\n",
    "\n",
    "print 'User-based test set CF MSE: ' + str(get_mse(user_prediction, valid))\n",
    "print 'Talk-based test set CF MSE: ' + str(get_mse(talk_prediction, valid))\n",
    "\n",
    "print 'User-based test set CF MSE: ' + str(get_mse(user_prediction, test))\n",
    "print 'Talk-based test set CF MSE: ' + str(get_mse(talk_prediction, test))"
   ]
  }
 ],
 "metadata": {
  "anaconda-cloud": {},
  "kernelspec": {
   "display_name": "Python [default]",
   "language": "python",
   "name": "python2"
  },
  "language_info": {
   "codemirror_mode": {
    "name": "ipython",
    "version": 2
   },
   "file_extension": ".py",
   "mimetype": "text/x-python",
   "name": "python",
   "nbconvert_exporter": "python",
   "pygments_lexer": "ipython2",
   "version": "2.7.12"
  }
 },
 "nbformat": 4,
 "nbformat_minor": 1
}
